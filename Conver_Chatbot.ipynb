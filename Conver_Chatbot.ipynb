{
 "cells": [
  {
   "cell_type": "code",
   "execution_count": null,
   "id": "5beba2e1-aff2-4fbf-a51f-7653c72a9a9d",
   "metadata": {},
   "outputs": [],
   "source": [
    "import nltk\n",
    "import numpy as np\n",
    "import random\n",
    "import string\n",
    "import re,unicodedata\n",
    "from nltk.corpus import wordnet as wn\n",
    "from nltk.stem.wordnet import WordNetLemmatizer\n",
    "import wikipedia as wk\n",
    "from collections import defaultdict\n",
    "import warnings\n",
    "warnings.filterwarnings(\"ignore\")\n",
    "nltk.download('punkt')\n",
    "nltk.download('wordnet')\n",
    "from sklearn.feature_extraction.text import tfidfvectorizer\n",
    "from sklearn.metrics.pairwise import cosine_similarity,linear_kernel\n",
    "\n",
    "\n",
    "import bs4 as bs\n",
    "import urllib.request\n"
   ]
  },
  {
   "cell_type": "code",
   "execution_count": null,
   "id": "e32f96b9-86a5-4ace-af13-578ce663d822",
   "metadata": {},
   "outputs": [],
   "source": [
    "get_link = urllib.request.urlopen('https://fr.wikipedia.org/wiki/Intelligence_artificielle')\n",
    "get_link = get_link.read()\n",
    "\n",
    "data = bs.beautifulSoup(get_link,'lxml')\n",
    "data_paragraphs = data.find_all('p')\n",
    "\n",
    "data_text =''\n",
    "for para in data_paragraphs:\n",
    "    data_text +=para.text\n",
    "\n",
    "data_text =data_text.lower()"
   ]
  },
  {
   "cell_type": "code",
   "execution_count": null,
   "id": "d22b32c9-afa7-42ba-8b52-c76859665c7e",
   "metadata": {},
   "outputs": [],
   "source": [
    "data_text = re.sub(r'\\[[0-9]*\\]',' ',data_text)\n",
    "data_text  =re.sub(r'\\s+',' ',data_text)"
   ]
  },
  {
   "cell_type": "code",
   "execution_count": null,
   "id": "f32adf68-bb02-4990-ab4d-b4debc4580a9",
   "metadata": {},
   "outputs": [],
   "source": [
    "data_sentences = nltk.sent_tokenize(data_text)\n",
    "data_word =nltk.word_tokenize(data_text)\n"
   ]
  },
  {
   "cell_type": "code",
   "execution_count": null,
   "id": "db8ba406-3fe6-48fc-875f-a0f9bfe3e02f",
   "metadata": {},
   "outputs": [],
   "source": [
    "wnlemmatizer = nltk.stem.wordnetLemmmatizer()\n",
    "def perform_lemmatization(tokens):\n",
    "    return [ wnlemmatizer.lemmatize(token) for token in tokens]\n",
    "    punctuation_removal = dict((ord(punctuation,None))) for punctuation in string.punctuation\n",
    "    def get_processed_text(document):\n",
    "        return perform_lemmatization(nltk.word_tokenize(document.lower().translate(punctuation_removal)))"
   ]
  },
  {
   "cell_type": "code",
   "execution_count": null,
   "id": "951e52ce-b67a-40e6-8d54-66d566eb4409",
   "metadata": {},
   "outputs": [],
   "source": []
  },
  {
   "cell_type": "code",
   "execution_count": null,
   "id": "efd6045b-edaa-4ed8-b6b8-cc276c7aa0d2",
   "metadata": {},
   "outputs": [],
   "source": []
  },
  {
   "cell_type": "code",
   "execution_count": null,
   "id": "c897d659-1ad7-471c-a07f-a15d3fc2fc86",
   "metadata": {},
   "outputs": [],
   "source": []
  },
  {
   "cell_type": "code",
   "execution_count": null,
   "id": "0485cae6-fd80-4f09-a20f-c47e7ff8b018",
   "metadata": {},
   "outputs": [],
   "source": []
  }
 ],
 "metadata": {
  "kernelspec": {
   "display_name": "Python 3 (ipykernel)",
   "language": "python",
   "name": "python3"
  },
  "language_info": {
   "codemirror_mode": {
    "name": "ipython",
    "version": 3
   },
   "file_extension": ".py",
   "mimetype": "text/x-python",
   "name": "python",
   "nbconvert_exporter": "python",
   "pygments_lexer": "ipython3",
   "version": "3.11.7"
  }
 },
 "nbformat": 4,
 "nbformat_minor": 5
}
